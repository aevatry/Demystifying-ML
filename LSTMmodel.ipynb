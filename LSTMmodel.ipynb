{
 "cells": [
  {
   "cell_type": "code",
   "execution_count": 1,
   "metadata": {},
   "outputs": [],
   "source": [
    "import numpy as np\n",
    "import matplotlib.pyplot as plt\n",
    "import pandas as pd"
   ]
  },
  {
   "cell_type": "code",
   "execution_count": 24,
   "metadata": {},
   "outputs": [],
   "source": [
    "features_alert = np.load('features_long_alert.npy', allow_pickle = True)\n",
    "labels_alert = np.loadtxt('labels_long_alert.npy')\n",
    "features_tired = np.load('features_long_tired.npy', allow_pickle = True)\n",
    "labels_tired = np.loadtxt('labels_long_tired.npy')\n",
    "\n",
    "if features_alert.shape[0] != labels_alert.shape[0] or features_tired.shape[0] != labels_tired.shape[0]:\n",
    "    raise IndexError('For the same label, the features and labels must be of same size')\n"
   ]
  },
  {
   "cell_type": "code",
   "execution_count": 30,
   "metadata": {},
   "outputs": [],
   "source": [
    "def unison_shuffled_copies(a, b):\n",
    "    assert len(a) == len(b) , f\"array in index 0 has lenght {len(a)} and array in index 1 has lenght {len(b)}\"\n",
    "    p = np.random.permutation(len(a))\n",
    "    return a[p], b[p]\n",
    "\n",
    "def split (features :np.ndarray, labels:np.ndarray, splitp : float):\n",
    "    \"\"\"\n",
    "    split splits two datasets of features and labels into training and testing\n",
    "\n",
    "    : features is the features dataset\n",
    "    : labels is the labels dataset\n",
    "    : slitp is the split percentage. Needs to range from 0 to 1. A split percentage of 0.8 will put 80% of set in train and 20% in test\n",
    "    \"\"\"\n",
    "\n",
    "    features, labels = unison_shuffled_copies(features, labels)\n",
    "    split_index = int(splitp * len(labels))\n",
    "\n",
    "    features_train = features[0:split_index]\n",
    "    features_test = features[split_index:len(features)]\n",
    "    # the [split index: -1] doesn't seem to work as inteded so use len(features)\n",
    "\n",
    "    labels_train = labels[0:split_index]\n",
    "    labels_test = labels[split_index:len(labels)]\n",
    "\n",
    "    return [features_train, labels_train, features_test, labels_test]\n",
    "\n",
    "def concatenation(split1: list, split2:list):\n",
    "    \"\"\"\n",
    "    concatenation puts together the train datasets and tests datasets that arise from the split function\n",
    "    This function needs to be changed if more than two labels exist in the dataset\n",
    "\n",
    "    : split1 is the split of the first lable\n",
    "    : split2 is the split of the second label\n",
    "\n",
    "    return a list with [train_features, train_labels, test_features, test_labels] where the datasets are shuffled\n",
    "    \"\"\"\n",
    "    train_feat = np.concatenate((split1[0], split2[0]))\n",
    "    train_lab = np.concatenate((split1[1], split2[1]))\n",
    "    train_feat, train_lab = unison_shuffled_copies(train_feat, train_lab)\n",
    "\n",
    "    test_feat = np.concatenate((split1[2], split2[2]))\n",
    "    test_lab = np.concatenate((split1[3], split2[3]))\n",
    "    test_feat, test_lab = unison_shuffled_copies(test_feat, test_lab)\n",
    "\n",
    "    return [train_feat, train_lab, test_feat, test_lab]\n"
   ]
  },
  {
   "cell_type": "code",
   "execution_count": 31,
   "metadata": {},
   "outputs": [],
   "source": [
    "split1 = split(features_alert, labels_alert, 0.8)\n",
    "split2 = split(features_tired, labels_tired, 0.8)\n",
    "\n",
    "dataset = concatenation(split1, split2)\n",
    "#see function description to understand structure of dataset"
   ]
  },
  {
   "cell_type": "code",
   "execution_count": 37,
   "metadata": {},
   "outputs": [
    {
     "name": "stdout",
     "output_type": "stream",
     "text": [
      "(19, 5, 8)\n"
     ]
    }
   ],
   "source": []
  }
 ],
 "metadata": {
  "kernelspec": {
   "display_name": "base",
   "language": "python",
   "name": "python3"
  },
  "language_info": {
   "codemirror_mode": {
    "name": "ipython",
    "version": 3
   },
   "file_extension": ".py",
   "mimetype": "text/x-python",
   "name": "python",
   "nbconvert_exporter": "python",
   "pygments_lexer": "ipython3",
   "version": "3.8.13"
  },
  "orig_nbformat": 4
 },
 "nbformat": 4,
 "nbformat_minor": 2
}
